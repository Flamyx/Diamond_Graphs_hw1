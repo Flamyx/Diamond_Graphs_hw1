{
 "cells": [
  {
   "cell_type": "markdown",
   "metadata": {},
   "source": [
    "Воробьев Петр ДЗ №1 по Графам"
   ]
  },
  {
   "cell_type": "code",
   "execution_count": 2,
   "metadata": {},
   "outputs": [],
   "source": [
    "import numpy as np\n",
    "import pandas as pd\n",
    "import matplotlib.pyplot as plt\n",
    "import networkx as nx"
   ]
  },
  {
   "cell_type": "markdown",
   "metadata": {},
   "source": [
    "Я взял в качестве метрополитенов: Рим, Питер и Пхеньян"
   ]
  },
  {
   "cell_type": "code",
   "execution_count": 3,
   "metadata": {},
   "outputs": [],
   "source": [
    "spb_con = pd.read_csv(\"spb_connections.csv\")\n",
    "spb_stations = pd.read_csv(\"spb_stations.csv\")\n",
    "rome_con = pd.read_csv(\"rome_connections.csv\")\n",
    "rome_stations = pd.read_csv(\"rome_stations.csv\")"
   ]
  },
  {
   "cell_type": "code",
   "execution_count": 4,
   "metadata": {
    "collapsed": true
   },
   "outputs": [
    {
     "data": {
      "text/html": [
       "<div>\n",
       "<style>\n",
       "    .dataframe thead tr:only-child th {\n",
       "        text-align: right;\n",
       "    }\n",
       "\n",
       "    .dataframe thead th {\n",
       "        text-align: left;\n",
       "    }\n",
       "\n",
       "    .dataframe tbody tr th {\n",
       "        vertical-align: top;\n",
       "    }\n",
       "</style>\n",
       "<table border=\"1\" class=\"dataframe\">\n",
       "  <thead>\n",
       "    <tr style=\"text-align: right;\">\n",
       "      <th></th>\n",
       "      <th>station_1</th>\n",
       "      <th>station_2</th>\n",
       "    </tr>\n",
       "  </thead>\n",
       "  <tbody>\n",
       "    <tr>\n",
       "      <th>0</th>\n",
       "      <td>1</td>\n",
       "      <td>2</td>\n",
       "    </tr>\n",
       "    <tr>\n",
       "      <th>1</th>\n",
       "      <td>2</td>\n",
       "      <td>3</td>\n",
       "    </tr>\n",
       "    <tr>\n",
       "      <th>2</th>\n",
       "      <td>3</td>\n",
       "      <td>4</td>\n",
       "    </tr>\n",
       "    <tr>\n",
       "      <th>3</th>\n",
       "      <td>4</td>\n",
       "      <td>5</td>\n",
       "    </tr>\n",
       "    <tr>\n",
       "      <th>4</th>\n",
       "      <td>5</td>\n",
       "      <td>6</td>\n",
       "    </tr>\n",
       "    <tr>\n",
       "      <th>5</th>\n",
       "      <td>6</td>\n",
       "      <td>7</td>\n",
       "    </tr>\n",
       "    <tr>\n",
       "      <th>6</th>\n",
       "      <td>7</td>\n",
       "      <td>8</td>\n",
       "    </tr>\n",
       "    <tr>\n",
       "      <th>7</th>\n",
       "      <td>8</td>\n",
       "      <td>9</td>\n",
       "    </tr>\n",
       "    <tr>\n",
       "      <th>8</th>\n",
       "      <td>9</td>\n",
       "      <td>10</td>\n",
       "    </tr>\n",
       "    <tr>\n",
       "      <th>9</th>\n",
       "      <td>10</td>\n",
       "      <td>11</td>\n",
       "    </tr>\n",
       "    <tr>\n",
       "      <th>10</th>\n",
       "      <td>10</td>\n",
       "      <td>41</td>\n",
       "    </tr>\n",
       "    <tr>\n",
       "      <th>11</th>\n",
       "      <td>10</td>\n",
       "      <td>28</td>\n",
       "    </tr>\n",
       "    <tr>\n",
       "      <th>12</th>\n",
       "      <td>11</td>\n",
       "      <td>12</td>\n",
       "    </tr>\n",
       "    <tr>\n",
       "      <th>13</th>\n",
       "      <td>11</td>\n",
       "      <td>29</td>\n",
       "    </tr>\n",
       "    <tr>\n",
       "      <th>14</th>\n",
       "      <td>11</td>\n",
       "      <td>47</td>\n",
       "    </tr>\n",
       "    <tr>\n",
       "      <th>15</th>\n",
       "      <td>12</td>\n",
       "      <td>13</td>\n",
       "    </tr>\n",
       "    <tr>\n",
       "      <th>16</th>\n",
       "      <td>12</td>\n",
       "      <td>29</td>\n",
       "    </tr>\n",
       "    <tr>\n",
       "      <th>17</th>\n",
       "      <td>12</td>\n",
       "      <td>58</td>\n",
       "    </tr>\n",
       "    <tr>\n",
       "      <th>18</th>\n",
       "      <td>13</td>\n",
       "      <td>14</td>\n",
       "    </tr>\n",
       "    <tr>\n",
       "      <th>19</th>\n",
       "      <td>13</td>\n",
       "      <td>29</td>\n",
       "    </tr>\n",
       "    <tr>\n",
       "      <th>20</th>\n",
       "      <td>13</td>\n",
       "      <td>30</td>\n",
       "    </tr>\n",
       "    <tr>\n",
       "      <th>21</th>\n",
       "      <td>14</td>\n",
       "      <td>15</td>\n",
       "    </tr>\n",
       "    <tr>\n",
       "      <th>22</th>\n",
       "      <td>15</td>\n",
       "      <td>16</td>\n",
       "    </tr>\n",
       "    <tr>\n",
       "      <th>23</th>\n",
       "      <td>16</td>\n",
       "      <td>17</td>\n",
       "    </tr>\n",
       "    <tr>\n",
       "      <th>24</th>\n",
       "      <td>17</td>\n",
       "      <td>18</td>\n",
       "    </tr>\n",
       "    <tr>\n",
       "      <th>25</th>\n",
       "      <td>18</td>\n",
       "      <td>19</td>\n",
       "    </tr>\n",
       "    <tr>\n",
       "      <th>26</th>\n",
       "      <td>20</td>\n",
       "      <td>21</td>\n",
       "    </tr>\n",
       "    <tr>\n",
       "      <th>27</th>\n",
       "      <td>21</td>\n",
       "      <td>22</td>\n",
       "    </tr>\n",
       "    <tr>\n",
       "      <th>28</th>\n",
       "      <td>22</td>\n",
       "      <td>23</td>\n",
       "    </tr>\n",
       "    <tr>\n",
       "      <th>29</th>\n",
       "      <td>23</td>\n",
       "      <td>24</td>\n",
       "    </tr>\n",
       "    <tr>\n",
       "      <th>...</th>\n",
       "      <td>...</td>\n",
       "      <td>...</td>\n",
       "    </tr>\n",
       "    <tr>\n",
       "      <th>35</th>\n",
       "      <td>28</td>\n",
       "      <td>29</td>\n",
       "    </tr>\n",
       "    <tr>\n",
       "      <th>36</th>\n",
       "      <td>30</td>\n",
       "      <td>31</td>\n",
       "    </tr>\n",
       "    <tr>\n",
       "      <th>37</th>\n",
       "      <td>31</td>\n",
       "      <td>32</td>\n",
       "    </tr>\n",
       "    <tr>\n",
       "      <th>38</th>\n",
       "      <td>32</td>\n",
       "      <td>33</td>\n",
       "    </tr>\n",
       "    <tr>\n",
       "      <th>39</th>\n",
       "      <td>33</td>\n",
       "      <td>34</td>\n",
       "    </tr>\n",
       "    <tr>\n",
       "      <th>40</th>\n",
       "      <td>34</td>\n",
       "      <td>35</td>\n",
       "    </tr>\n",
       "    <tr>\n",
       "      <th>41</th>\n",
       "      <td>35</td>\n",
       "      <td>36</td>\n",
       "    </tr>\n",
       "    <tr>\n",
       "      <th>42</th>\n",
       "      <td>37</td>\n",
       "      <td>38</td>\n",
       "    </tr>\n",
       "    <tr>\n",
       "      <th>43</th>\n",
       "      <td>38</td>\n",
       "      <td>39</td>\n",
       "    </tr>\n",
       "    <tr>\n",
       "      <th>44</th>\n",
       "      <td>39</td>\n",
       "      <td>28</td>\n",
       "    </tr>\n",
       "    <tr>\n",
       "      <th>45</th>\n",
       "      <td>41</td>\n",
       "      <td>42</td>\n",
       "    </tr>\n",
       "    <tr>\n",
       "      <th>46</th>\n",
       "      <td>42</td>\n",
       "      <td>43</td>\n",
       "    </tr>\n",
       "    <tr>\n",
       "      <th>47</th>\n",
       "      <td>43</td>\n",
       "      <td>44</td>\n",
       "    </tr>\n",
       "    <tr>\n",
       "      <th>48</th>\n",
       "      <td>44</td>\n",
       "      <td>45</td>\n",
       "    </tr>\n",
       "    <tr>\n",
       "      <th>49</th>\n",
       "      <td>45</td>\n",
       "      <td>46</td>\n",
       "    </tr>\n",
       "    <tr>\n",
       "      <th>50</th>\n",
       "      <td>47</td>\n",
       "      <td>41</td>\n",
       "    </tr>\n",
       "    <tr>\n",
       "      <th>51</th>\n",
       "      <td>41</td>\n",
       "      <td>48</td>\n",
       "    </tr>\n",
       "    <tr>\n",
       "      <th>52</th>\n",
       "      <td>48</td>\n",
       "      <td>49</td>\n",
       "    </tr>\n",
       "    <tr>\n",
       "      <th>53</th>\n",
       "      <td>49</td>\n",
       "      <td>50</td>\n",
       "    </tr>\n",
       "    <tr>\n",
       "      <th>54</th>\n",
       "      <td>50</td>\n",
       "      <td>51</td>\n",
       "    </tr>\n",
       "    <tr>\n",
       "      <th>55</th>\n",
       "      <td>52</td>\n",
       "      <td>53</td>\n",
       "    </tr>\n",
       "    <tr>\n",
       "      <th>56</th>\n",
       "      <td>53</td>\n",
       "      <td>54</td>\n",
       "    </tr>\n",
       "    <tr>\n",
       "      <th>57</th>\n",
       "      <td>54</td>\n",
       "      <td>55</td>\n",
       "    </tr>\n",
       "    <tr>\n",
       "      <th>58</th>\n",
       "      <td>55</td>\n",
       "      <td>56</td>\n",
       "    </tr>\n",
       "    <tr>\n",
       "      <th>59</th>\n",
       "      <td>56</td>\n",
       "      <td>57</td>\n",
       "    </tr>\n",
       "    <tr>\n",
       "      <th>60</th>\n",
       "      <td>57</td>\n",
       "      <td>29</td>\n",
       "    </tr>\n",
       "    <tr>\n",
       "      <th>61</th>\n",
       "      <td>12</td>\n",
       "      <td>58</td>\n",
       "    </tr>\n",
       "    <tr>\n",
       "      <th>62</th>\n",
       "      <td>58</td>\n",
       "      <td>59</td>\n",
       "    </tr>\n",
       "    <tr>\n",
       "      <th>63</th>\n",
       "      <td>59</td>\n",
       "      <td>60</td>\n",
       "    </tr>\n",
       "    <tr>\n",
       "      <th>64</th>\n",
       "      <td>60</td>\n",
       "      <td>61</td>\n",
       "    </tr>\n",
       "  </tbody>\n",
       "</table>\n",
       "<p>65 rows × 2 columns</p>\n",
       "</div>"
      ],
      "text/plain": [
       "    station_1  station_2\n",
       "0           1          2\n",
       "1           2          3\n",
       "2           3          4\n",
       "3           4          5\n",
       "4           5          6\n",
       "5           6          7\n",
       "6           7          8\n",
       "7           8          9\n",
       "8           9         10\n",
       "9          10         11\n",
       "10         10         41\n",
       "11         10         28\n",
       "12         11         12\n",
       "13         11         29\n",
       "14         11         47\n",
       "15         12         13\n",
       "16         12         29\n",
       "17         12         58\n",
       "18         13         14\n",
       "19         13         29\n",
       "20         13         30\n",
       "21         14         15\n",
       "22         15         16\n",
       "23         16         17\n",
       "24         17         18\n",
       "25         18         19\n",
       "26         20         21\n",
       "27         21         22\n",
       "28         22         23\n",
       "29         23         24\n",
       "..        ...        ...\n",
       "35         28         29\n",
       "36         30         31\n",
       "37         31         32\n",
       "38         32         33\n",
       "39         33         34\n",
       "40         34         35\n",
       "41         35         36\n",
       "42         37         38\n",
       "43         38         39\n",
       "44         39         28\n",
       "45         41         42\n",
       "46         42         43\n",
       "47         43         44\n",
       "48         44         45\n",
       "49         45         46\n",
       "50         47         41\n",
       "51         41         48\n",
       "52         48         49\n",
       "53         49         50\n",
       "54         50         51\n",
       "55         52         53\n",
       "56         53         54\n",
       "57         54         55\n",
       "58         55         56\n",
       "59         56         57\n",
       "60         57         29\n",
       "61         12         58\n",
       "62         58         59\n",
       "63         59         60\n",
       "64         60         61\n",
       "\n",
       "[65 rows x 2 columns]"
      ]
     },
     "execution_count": 4,
     "metadata": {},
     "output_type": "execute_result"
    }
   ],
   "source": [
    "spb_con"
   ]
  },
  {
   "cell_type": "code",
   "execution_count": 5,
   "metadata": {},
   "outputs": [],
   "source": [
    "def make_sub_scheme(connections):\n",
    "    g = nx.Graph()\n",
    "    \n",
    "    for i in range(len(connections)):\n",
    "        _station_1, _station_2 = int(connections['station_1'][i]), int(connections['station_2'][i])\n",
    "        g.add_edge(_station_1, _station_2)\n",
    "        #g.add_edge(_station_2, _station_1)\n",
    "    \n",
    "    return g"
   ]
  },
  {
   "cell_type": "code",
   "execution_count": 6,
   "metadata": {},
   "outputs": [],
   "source": [
    "t = make_sub_scheme(spb_con)\n",
    "q = make_sub_scheme(rome_con)"
   ]
  },
  {
   "cell_type": "code",
   "execution_count": 7,
   "metadata": {},
   "outputs": [],
   "source": [
    "from networkx import isomorphism"
   ]
  },
  {
   "cell_type": "code",
   "execution_count": 8,
   "metadata": {},
   "outputs": [],
   "source": [
    "check = isomorphism.GraphMatcher(t, q)"
   ]
  },
  {
   "cell_type": "code",
   "execution_count": 9,
   "metadata": {},
   "outputs": [
    {
     "data": {
      "text/plain": [
       "False"
      ]
     },
     "execution_count": 9,
     "metadata": {},
     "output_type": "execute_result"
    }
   ],
   "source": [
    "check.is_isomorphic()"
   ]
  },
  {
   "cell_type": "markdown",
   "metadata": {},
   "source": [
    "## Попробуем сравнять кол-во вершин(станций) и проверить на изоморфность еще раз\n",
    "\n",
    "### удалять будем вершины степени 1"
   ]
  },
  {
   "cell_type": "code",
   "execution_count": 10,
   "metadata": {},
   "outputs": [
    {
     "data": {
      "text/plain": [
       "(73, 61)"
      ]
     },
     "execution_count": 10,
     "metadata": {},
     "output_type": "execute_result"
    }
   ],
   "source": [
    "len(rome_stations), len(spb_stations)"
   ]
  },
  {
   "cell_type": "code",
   "execution_count": 11,
   "metadata": {},
   "outputs": [],
   "source": [
    "def sub_equalizer(graph, size_from, size_to):\n",
    "    while size_from != size_to:\n",
    "        idx = np.random.randint(low=1, high=size_from+1)\n",
    "        try:\n",
    "            if graph.degree(idx) == 1:\n",
    "                graph.remove_node(idx)\n",
    "            size_from -= 1\n",
    "        except NameError or NetworkXError:\n",
    "            continue\n",
    "            \n",
    "    return graph"
   ]
  },
  {
   "cell_type": "code",
   "execution_count": 12,
   "metadata": {},
   "outputs": [],
   "source": [
    "new_rome = q"
   ]
  },
  {
   "cell_type": "code",
   "execution_count": 13,
   "metadata": {},
   "outputs": [],
   "source": [
    "new_rome = sub_equalizer(new_rome, len(rome_stations), len(spb_stations))"
   ]
  },
  {
   "cell_type": "code",
   "execution_count": 14,
   "metadata": {},
   "outputs": [],
   "source": [
    "check = isomorphism.GraphMatcher(t, new_rome)"
   ]
  },
  {
   "cell_type": "code",
   "execution_count": 15,
   "metadata": {},
   "outputs": [
    {
     "data": {
      "text/plain": [
       "False"
      ]
     },
     "execution_count": 15,
     "metadata": {},
     "output_type": "execute_result"
    }
   ],
   "source": [
    "check.is_isomorphic()"
   ]
  },
  {
   "cell_type": "markdown",
   "metadata": {},
   "source": [
    "### Даже с удалением единичных вершин графы метро не изоморфны.\n",
    "\n",
    "### Попробуем через BLISSS"
   ]
  },
  {
   "cell_type": "code",
   "execution_count": 46,
   "metadata": {},
   "outputs": [],
   "source": [
    "import igraph as ig"
   ]
  },
  {
   "cell_type": "code",
   "execution_count": 55,
   "metadata": {
    "collapsed": true
   },
   "outputs": [
    {
     "data": {
      "text/plain": [
       "[1,\n",
       " 2,\n",
       " 3,\n",
       " 4,\n",
       " 5,\n",
       " 6,\n",
       " 7,\n",
       " 8,\n",
       " 9,\n",
       " 10,\n",
       " 11,\n",
       " 12,\n",
       " 13,\n",
       " 14,\n",
       " 15,\n",
       " 16,\n",
       " 17,\n",
       " 18,\n",
       " 19,\n",
       " 20,\n",
       " 21,\n",
       " 22,\n",
       " 23,\n",
       " 24,\n",
       " 25,\n",
       " 26,\n",
       " 27,\n",
       " 28,\n",
       " 29,\n",
       " 30,\n",
       " 31,\n",
       " 32,\n",
       " 33,\n",
       " 34,\n",
       " 35,\n",
       " 36,\n",
       " 37,\n",
       " 38,\n",
       " 39,\n",
       " 40,\n",
       " 41,\n",
       " 42,\n",
       " 43,\n",
       " 44,\n",
       " 45,\n",
       " 46,\n",
       " 47,\n",
       " 48,\n",
       " 49,\n",
       " 50,\n",
       " 51,\n",
       " 52,\n",
       " 53,\n",
       " 54,\n",
       " 55,\n",
       " 56,\n",
       " 57,\n",
       " 58,\n",
       " 59,\n",
       " 60,\n",
       " 61]"
      ]
     },
     "execution_count": 55,
     "metadata": {},
     "output_type": "execute_result"
    }
   ],
   "source": [
    "spb_stations['id'].tolist()"
   ]
  },
  {
   "cell_type": "code",
   "execution_count": 59,
   "metadata": {},
   "outputs": [],
   "source": [
    "def make_ig(stations, connections):\n",
    "    g = ig.Graph()\n",
    "    edges = []\n",
    "    idxs = stations['id'].tolist()\n",
    "    n = len(idxs)\n",
    "    \n",
    "    g.add_vertices(n)\n",
    "    g.vs[\"label\"] = idxs\n",
    "    \n",
    "    for i in range(len(connections)):\n",
    "        _station_1, _station_2 = int(connections['station_1'][i]), int(connections['station_2'][i])\n",
    "        edges.append((_station_1, _station_2))\n",
    "    g.add_edges\n",
    "    \n",
    "    return g"
   ]
  },
  {
   "cell_type": "code",
   "execution_count": 61,
   "metadata": {},
   "outputs": [],
   "source": [
    "spb_ig = make_ig(spb_stations, spb_con)\n",
    "rome_ig = make_ig(rome_stations, rome_con)"
   ]
  },
  {
   "cell_type": "code",
   "execution_count": 62,
   "metadata": {},
   "outputs": [
    {
     "data": {
      "text/plain": [
       "False"
      ]
     },
     "execution_count": 62,
     "metadata": {},
     "output_type": "execute_result"
    }
   ],
   "source": [
    "spb_ig.isomorphic_bliss(rome_ig)"
   ]
  },
  {
   "cell_type": "markdown",
   "metadata": {},
   "source": [
    "### Питер и Рим не изоморфны также и по BLISS"
   ]
  },
  {
   "cell_type": "markdown",
   "metadata": {},
   "source": [
    "### Попробуем найти изоморфный подграф в питерском метро по отношению к пхеньянскому."
   ]
  },
  {
   "cell_type": "code",
   "execution_count": 38,
   "metadata": {},
   "outputs": [],
   "source": [
    "pyon_stations = pd.read_csv(\"pyon_stations.csv\")\n",
    "pyon_connections = pd.read_csv(\"pyon_connections.csv\")"
   ]
  },
  {
   "cell_type": "code",
   "execution_count": 39,
   "metadata": {},
   "outputs": [],
   "source": [
    "pyon = make_sub_scheme(pyon_connections)"
   ]
  },
  {
   "cell_type": "code",
   "execution_count": 40,
   "metadata": {},
   "outputs": [],
   "source": [
    "sub_iso = isomorphism.GraphMatcher(t, pyon)"
   ]
  },
  {
   "cell_type": "code",
   "execution_count": 41,
   "metadata": {},
   "outputs": [
    {
     "data": {
      "text/plain": [
       "True"
      ]
     },
     "execution_count": 41,
     "metadata": {},
     "output_type": "execute_result"
    }
   ],
   "source": [
    "sub_iso.subgraph_is_isomorphic()"
   ]
  },
  {
   "cell_type": "code",
   "execution_count": 42,
   "metadata": {},
   "outputs": [],
   "source": [
    "_dict = sub_iso.mapping"
   ]
  },
  {
   "cell_type": "code",
   "execution_count": 43,
   "metadata": {
    "scrolled": true
   },
   "outputs": [
    {
     "name": "stdout",
     "output_type": "stream",
     "text": [
      "    id          name        line\n",
      "10  11  Владимирская  red+orange\n",
      "~~~~~~ Isomorphed to ~~~~~~~\n",
      "   id     name   line\n",
      "6   7  Samhung  green\n",
      "\n",
      "\n",
      "\n",
      "\n",
      "\n",
      "   id              name line\n",
      "4   5  Площадь Мужества  red\n",
      "~~~~~~ Isomorphed to ~~~~~~~\n",
      "   id      name   line\n",
      "0   1  Kwangbok  green\n",
      "\n",
      "\n",
      "\n",
      "\n",
      "\n",
      "   id    name line\n",
      "5   6  Лесная  red\n",
      "~~~~~~ Isomorphed to ~~~~~~~\n",
      "   id        name   line\n",
      "1   2  Potonggang  green\n",
      "\n",
      "\n",
      "\n",
      "\n",
      "\n",
      "   id        name line\n",
      "6   7  Выборгская  red\n",
      "~~~~~~ Isomorphed to ~~~~~~~\n",
      "   id         name   line\n",
      "2   3  Hwsnggumbol  green\n",
      "\n",
      "\n",
      "\n",
      "\n",
      "\n",
      "   id            name line\n",
      "7   8  Площадь Ленина  red\n",
      "~~~~~~ Isomorphed to ~~~~~~~\n",
      "   id    name   line\n",
      "3   4  Konsol  green\n",
      "\n",
      "\n",
      "\n",
      "\n",
      "\n",
      "   id          name line\n",
      "8   9  Чернышевская  red\n",
      "~~~~~~ Isomorphed to ~~~~~~~\n",
      "   id     name   line\n",
      "4   5  Hyoksin  green\n",
      "\n",
      "\n",
      "\n",
      "\n",
      "\n",
      "   id               name       line\n",
      "9  10  Площадь Восстания  red+green\n",
      "~~~~~~ Isomorphed to ~~~~~~~\n",
      "   id     name       line\n",
      "5   6  Chosung  green+red\n",
      "\n",
      "\n",
      "\n",
      "\n",
      "\n",
      "    id           name   line\n",
      "42  43  Ломоносовская  green\n",
      "~~~~~~ Isomorphed to ~~~~~~~\n",
      "    id     name line\n",
      "11  12  Ponghwa  red\n",
      "\n",
      "\n",
      "\n",
      "\n",
      "\n",
      "    id        name        line\n",
      "11  12  Пушкинская  red+violet\n",
      "~~~~~~ Isomorphed to ~~~~~~~\n",
      "   id    name   line\n",
      "7   8  Rakwon  green\n",
      "\n",
      "\n",
      "\n",
      "\n",
      "\n",
      "    id     name   line\n",
      "44  45  Обухово  green\n",
      "~~~~~~ Isomorphed to ~~~~~~~\n",
      "    id    name line\n",
      "13  14  Puhung  red\n",
      "\n",
      "\n",
      "\n",
      "\n",
      "\n",
      "    id          name   line\n",
      "43  44  Пролетарская  green\n",
      "~~~~~~ Isomorphed to ~~~~~~~\n",
      "    id       name line\n",
      "12  13  Yanggwang  red\n",
      "\n",
      "\n",
      "\n",
      "\n",
      "\n",
      "    id                         name          line\n",
      "40  41  Площадь Александра Невского  green+orange\n",
      "~~~~~~ Isomorphed to ~~~~~~~\n",
      "   id    name line\n",
      "9  10  Kaeson  red\n",
      "\n",
      "\n",
      "\n",
      "\n",
      "\n",
      "    id              name        line\n",
      "27  28  Невский проспект  blue+green\n",
      "~~~~~~ Isomorphed to ~~~~~~~\n",
      "   id        name line\n",
      "8   9  Pulgunbyol  red\n",
      "\n",
      "\n",
      "\n",
      "\n",
      "\n",
      "    id          name   line\n",
      "41  42  Елизаровская  green\n",
      "~~~~~~ Isomorphed to ~~~~~~~\n",
      "    id    name line\n",
      "10  11  Sunghi  red\n",
      "\n",
      "\n",
      "\n",
      "\n",
      "\n"
     ]
    }
   ],
   "source": [
    "for key in _dict:\n",
    "    spb_node = spb_stations[spb_stations['id'] == key]\n",
    "    pyon_node = pyon_stations[pyon_stations['id'] == _dict[key]]\n",
    "    print(spb_node)\n",
    "    print('~~~~~~ Isomorphed to ~~~~~~~')\n",
    "    print(pyon_node)\n",
    "    print('\\n\\n\\n\\n')"
   ]
  },
  {
   "cell_type": "markdown",
   "metadata": {},
   "source": [
    "### Подграф найден и выведены изоморфные вершины"
   ]
  }
 ],
 "metadata": {
  "kernelspec": {
   "display_name": "Python 3",
   "language": "python",
   "name": "python3"
  },
  "language_info": {
   "codemirror_mode": {
    "name": "ipython",
    "version": 3
   },
   "file_extension": ".py",
   "mimetype": "text/x-python",
   "name": "python",
   "nbconvert_exporter": "python",
   "pygments_lexer": "ipython3",
   "version": "3.5.2"
  }
 },
 "nbformat": 4,
 "nbformat_minor": 2
}
